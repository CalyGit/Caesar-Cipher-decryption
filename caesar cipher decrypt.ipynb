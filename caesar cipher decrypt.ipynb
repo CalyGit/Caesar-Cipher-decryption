{
 "cells": [
  {
   "cell_type": "code",
   "execution_count": null,
   "id": "087fc3a0",
   "metadata": {},
   "outputs": [],
   "source": [
    "alphabet = \"ABCDEFGHIJKLMNOPQRSTUVWXYZ\"\n",
    "# Prompt the user to enter a message\n",
    "message = input(\"Enter your message: \")\n",
    "\n",
    "# Prompt the user to enter a password(passwd='decrypt' or 'encrypt')\n",
    "password = input(\"Enter your password: \")\n",
    "\n",
    "# Prompt the user to enter a number of shifts\n",
    "shifts = int(input(\"Enter the number of shifts: \"))\n",
    "\n",
    "if password.lower() == \"decrypt\":\n",
    "    # Decryption\n",
    "    decrypted_message = \"\"\n",
    "    for char in message:\n",
    "        if char.isalpha():\n",
    "            position = alphabet.index(char.upper())\n",
    "            new_position = (position - shifts) % 26\n",
    "            decrypted_char = alphabet[new_position]\n",
    "            if char.islower():\n",
    "                decrypted_char = decrypted_char.lower()\n",
    "            decrypted_message += decrypted_char\n",
    "        else:\n",
    "            decrypted_message += char\n",
    "\n",
    "    print(\"Decrypted message:\", decrypted_message)\n",
    "    \n",
    "else:\n",
    "    print(\"Invalid password! Please enter 'decrypt'.\")"
   ]
  }
 ],
 "metadata": {
  "kernelspec": {
   "display_name": "Python 3 (ipykernel)",
   "language": "python",
   "name": "python3"
  },
  "language_info": {
   "codemirror_mode": {
    "name": "ipython",
    "version": 3
   },
   "file_extension": ".py",
   "mimetype": "text/x-python",
   "name": "python",
   "nbconvert_exporter": "python",
   "pygments_lexer": "ipython3",
   "version": "3.9.12"
  }
 },
 "nbformat": 4,
 "nbformat_minor": 5
}
